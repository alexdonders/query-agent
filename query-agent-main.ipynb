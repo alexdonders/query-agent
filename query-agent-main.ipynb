{
 "cells": [
  {
   "cell_type": "code",
   "execution_count": 167,
   "metadata": {},
   "outputs": [],
   "source": [
    "import glob\n",
    "import os\n",
    "import pandas as pd\n",
    "import sqlite3\n",
    "from pathlib import Path\n",
    "from pandas.core.common import flatten\n",
    "from itertools import product\n",
    "from abc import ABC, abstractmethod\n",
    "\n",
    "input_root_path = 'C:\\\\Users\\\\alexd\\\\OneDrive\\\\Dokumente\\\\Python Scripts\\\\query-agent\\\\input\\\\'\n",
    "output_root_path = 'C:\\\\Users\\\\alexd\\\\OneDrive\\\\Dokumente\\\\Python Scripts\\\\query-agent\\\\output\\\\'"
   ]
  },
  {
   "cell_type": "code",
   "execution_count": 168,
   "metadata": {},
   "outputs": [],
   "source": [
    "class Parameter():\n",
    "    def __init__(self, file):\n",
    "        \n",
    "        if file.lower().endswith('.csv'):\n",
    "            self.param_dict = pd.read_csv(file, sep=';', dtype = str).set_index('key').to_dict('index')\n",
    "        \n",
    "            for key in self.param_dict.keys():\n",
    "                self.param_dict[key] = list(map(lambda x: x.replace(' ', ''), self.param_dict[key]['value'].split(',')))\n",
    "        elif file.lower().endswith('.sql'):\n",
    "            db = sqlite3.connect(':memory:')\n",
    "            \n",
    "            df = pd.read_excel('test-data.xlsx')\n",
    "            df.to_sql(\"df\", db, if_exists=\"replace\", index=False)\n",
    "            \n",
    "            df = pd.read_sql(open(file, 'r').read(), db)\n",
    "            df.columns = ['key', 'value']\n",
    "            self.param_dict = df.set_index('key').to_dict('index')\n",
    "            for key in self.param_dict.keys():\n",
    "                self.param_dict[key] = self.param_dict[key]['value']"
   ]
  },
  {
   "cell_type": "code",
   "execution_count": 178,
   "metadata": {},
   "outputs": [],
   "source": [
    "class Query():\n",
    "    def __init__(self, input_root_path, input_path, output_root_path, params, multi_params):\n",
    "        \n",
    "        # where can the query be found?\n",
    "        self.input_root_path = input_root_path\n",
    "        self.input_path = input_path\n",
    "        self.output_root_path = output_root_path\n",
    "        \n",
    "        # set parameter dictionaries\n",
    "        self.params = params\n",
    "        self.multi_params = multi_params\n",
    "        self.input_query = Path(self.input_path).read_text()\n",
    "        \n",
    "        # derive new properties\n",
    "        self.relative_path = Path(self.input_path).relative_to(input_root_path).parents[0]\n",
    "        self.output_path = self.__set_output_path()\n",
    "        self.output_query = self.__modify_query()\n",
    "        self.input_path, self.output_path, self.input_query, self.output_query = self.__multiply()\n",
    "        \n",
    "    def __set_output_path(self):\n",
    "                \n",
    "        # modify file_name\n",
    "        file_name = Path(self.input_path).name\n",
    "        for k, v in self.params.param_dict.items():\n",
    "            file_name = file_name.replace(k,str(v))\n",
    "        \n",
    "        # concatenate and return output_root_path, relative_path and final_filename\n",
    "        path = os.path.join(output_root_path,self.relative_path, file_name).replace('.sql','.csv')\n",
    "        return path\n",
    "    \n",
    "    def __modify_query(self):\n",
    "        query = self.input_query\n",
    "        for k, v in params.param_dict.items():\n",
    "            query = query.replace(k,str(v))\n",
    "        return query\n",
    "    \n",
    "    def __multiply(self):\n",
    "        file_name = Path(self.input_path).name.replace('.sql','.csv')\n",
    "        multiplier_matches = [i for i in list(self.multi_params.param_dict.keys()) if i in file_name]\n",
    "        \n",
    "        if len(multiplier_matches)>0:\n",
    "            input_paths = []\n",
    "            output_paths = []\n",
    "            original_queries = []\n",
    "            modified_queries = []\n",
    "            multiplier_values = [multi_params.param_dict[match] for match in multiplier_matches]\n",
    "            for combination in product(*multiplier_values):\n",
    "                output_file = file_name\n",
    "                output_query = self.output_query\n",
    "                for i, value in enumerate(combination):\n",
    "                    output_file = output_file.replace(multiplier_matches[i], value)\n",
    "                    output_query = output_query.replace('@'+multiplier_matches[i]+'@', value)\n",
    "                output_path = self.input_path.replace(Path(self.input_path).name, output_file).replace(self.input_root_path, self.output_root_path)\n",
    "                \n",
    "                input_paths.append(self.input_path)\n",
    "                output_paths.append(output_path)\n",
    "                original_queries.append(self.input_query)\n",
    "                modified_queries.append(output_query)\n",
    "            \n",
    "            return input_paths, output_paths, original_queries, modified_queries\n",
    "        else:\n",
    "            return [self.input_path], [self.output_path], [self.input_query], [self.output_query]"
   ]
  },
  {
   "cell_type": "code",
   "execution_count": 179,
   "metadata": {},
   "outputs": [],
   "source": [
    "params = Parameter('params/params.sql')\n",
    "multi_params = Parameter('params/file-multiplier.csv')"
   ]
  },
  {
   "cell_type": "code",
   "execution_count": 180,
   "metadata": {},
   "outputs": [],
   "source": [
    "query_objects = []\n",
    "input_files = [f for f in glob.glob(input_root_path + '**/*.sql', recursive = True)]\n",
    "for query_path in input_files:\n",
    "    query_objects.append(Query(input_root_path, query_path, output_root_path, params, multi_params))"
   ]
  },
  {
   "cell_type": "code",
   "execution_count": 181,
   "metadata": {},
   "outputs": [],
   "source": [
    "input_paths = []\n",
    "output_paths = []\n",
    "output_queries = []\n",
    "input_queries = []\n",
    "\n",
    "for query in query_objects:\n",
    "    input_paths.extend(query.input_path)\n",
    "    output_paths.extend(query.output_path)\n",
    "    input_queries.extend(query.input_query)\n",
    "    output_queries.extend(query.output_query)"
   ]
  },
  {
   "cell_type": "code",
   "execution_count": 182,
   "metadata": {},
   "outputs": [],
   "source": [
    "class Executor():\n",
    "    def __init__(self, input_path, output_path, input_query, output_query):\n",
    "        self.input_path = input_path\n",
    "        self.output_path = output_path\n",
    "        self.input_query = input_query\n",
    "        self.output_query = output_query\n",
    "        self.db = self.__create_db()\n",
    "        self.__run_query()\n",
    "    \n",
    "    def __create_db(self):\n",
    "        db = sqlite3.connect(':memory:')\n",
    "        df = pd.read_excel('test-data.xlsx')\n",
    "        df.to_sql(\"df\", db, if_exists=\"replace\", index=False)\n",
    "        return db\n",
    "    \n",
    "    def __run_query(self):\n",
    "        df = pd.read_sql_query(self.output_query,db)\n",
    "        os.makedirs(Path(self.output_path).parents[0], exist_ok=True)\n",
    "        df.to_csv(self.output_path, sep = ';', chunksize=1, index=False )"
   ]
  },
  {
   "cell_type": "code",
   "execution_count": 183,
   "metadata": {},
   "outputs": [],
   "source": [
    "for i, query in enumerate(output_queries):\n",
    "    input_path = input_paths[i]\n",
    "    output_path = output_paths[i]\n",
    "    input_query = input_queries[i]\n",
    "    output_query = output_queries[i]\n",
    "    \n",
    "    Executor(input_path, output_path, input_query, output_query)"
   ]
  },
  {
   "cell_type": "code",
   "execution_count": 184,
   "metadata": {},
   "outputs": [],
   "source": [
    "# write db connector\n",
    "# write query executor\n",
    "# write csv file writer\n",
    "# write logger"
   ]
  },
  {
   "cell_type": "code",
   "execution_count": 185,
   "metadata": {},
   "outputs": [
    {
     "data": {
      "text/plain": [
       "['C:\\\\Users\\\\alexd\\\\OneDrive\\\\Dokumente\\\\Python Scripts\\\\query-agent\\\\output\\\\folder-1\\\\subfolder-1\\\\test-query-1.csv',\n",
       " 'C:\\\\Users\\\\alexd\\\\OneDrive\\\\Dokumente\\\\Python Scripts\\\\query-agent\\\\output\\\\folder-1\\\\subfolder-2\\\\another-test-query.csv',\n",
       " 'C:\\\\Users\\\\alexd\\\\OneDrive\\\\Dokumente\\\\Python Scripts\\\\query-agent\\\\output\\\\folder-1\\\\subfolder-2\\\\20190101-NESN-yet-another-query.csv',\n",
       " 'C:\\\\Users\\\\alexd\\\\OneDrive\\\\Dokumente\\\\Python Scripts\\\\query-agent\\\\output\\\\folder-1\\\\subfolder-2\\\\20190101-UBSN-yet-another-query.csv',\n",
       " 'C:\\\\Users\\\\alexd\\\\OneDrive\\\\Dokumente\\\\Python Scripts\\\\query-agent\\\\output\\\\folder-1\\\\subfolder-2\\\\20190101-ABBN-yet-another-query.csv',\n",
       " 'C:\\\\Users\\\\alexd\\\\OneDrive\\\\Dokumente\\\\Python Scripts\\\\query-agent\\\\output\\\\folder-1\\\\subfolder-2\\\\20190102-NESN-yet-another-query.csv',\n",
       " 'C:\\\\Users\\\\alexd\\\\OneDrive\\\\Dokumente\\\\Python Scripts\\\\query-agent\\\\output\\\\folder-1\\\\subfolder-2\\\\20190102-UBSN-yet-another-query.csv',\n",
       " 'C:\\\\Users\\\\alexd\\\\OneDrive\\\\Dokumente\\\\Python Scripts\\\\query-agent\\\\output\\\\folder-1\\\\subfolder-2\\\\20190102-ABBN-yet-another-query.csv',\n",
       " 'C:\\\\Users\\\\alexd\\\\OneDrive\\\\Dokumente\\\\Python Scripts\\\\query-agent\\\\output\\\\folder-1\\\\subfolder-2\\\\20190103-NESN-yet-another-query.csv',\n",
       " 'C:\\\\Users\\\\alexd\\\\OneDrive\\\\Dokumente\\\\Python Scripts\\\\query-agent\\\\output\\\\folder-1\\\\subfolder-2\\\\20190103-UBSN-yet-another-query.csv',\n",
       " 'C:\\\\Users\\\\alexd\\\\OneDrive\\\\Dokumente\\\\Python Scripts\\\\query-agent\\\\output\\\\folder-1\\\\subfolder-2\\\\20190103-ABBN-yet-another-query.csv',\n",
       " 'C:\\\\Users\\\\alexd\\\\OneDrive\\\\Dokumente\\\\Python Scripts\\\\query-agent\\\\output\\\\folder-1\\\\subfolder-2\\\\20190101-test-query.csv',\n",
       " 'C:\\\\Users\\\\alexd\\\\OneDrive\\\\Dokumente\\\\Python Scripts\\\\query-agent\\\\output\\\\folder-1\\\\subfolder-2\\\\20190102-test-query.csv',\n",
       " 'C:\\\\Users\\\\alexd\\\\OneDrive\\\\Dokumente\\\\Python Scripts\\\\query-agent\\\\output\\\\folder-1\\\\subfolder-2\\\\20190103-test-query.csv',\n",
       " 'C:\\\\Users\\\\alexd\\\\OneDrive\\\\Dokumente\\\\Python Scripts\\\\query-agent\\\\output\\\\folder-2\\\\201901-my-query.csv',\n",
       " 'C:\\\\Users\\\\alexd\\\\OneDrive\\\\Dokumente\\\\Python Scripts\\\\query-agent\\\\output\\\\folder-3\\\\20190103-super-query.csv']"
      ]
     },
     "execution_count": 185,
     "metadata": {},
     "output_type": "execute_result"
    }
   ],
   "source": [
    "output_paths"
   ]
  },
  {
   "cell_type": "code",
   "execution_count": null,
   "metadata": {},
   "outputs": [],
   "source": []
  }
 ],
 "metadata": {
  "kernelspec": {
   "display_name": "Python 3",
   "language": "python",
   "name": "python3"
  },
  "language_info": {
   "codemirror_mode": {
    "name": "ipython",
    "version": 3
   },
   "file_extension": ".py",
   "mimetype": "text/x-python",
   "name": "python",
   "nbconvert_exporter": "python",
   "pygments_lexer": "ipython3",
   "version": "3.7.3"
  }
 },
 "nbformat": 4,
 "nbformat_minor": 2
}
