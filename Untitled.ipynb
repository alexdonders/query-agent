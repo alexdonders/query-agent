{
 "cells": [
  {
   "cell_type": "code",
   "execution_count": 186,
   "metadata": {},
   "outputs": [],
   "source": [
    "import glob\n",
    "import os\n",
    "import pandas as pd\n",
    "import sqlite3\n",
    "from pathlib import Path\n",
    "from pandas.core.common import flatten\n",
    "from itertools import product\n",
    "from abc import ABC, abstractmethod\n",
    "\n",
    "input_root_path = 'C:\\\\Users\\\\alexd\\\\OneDrive\\\\Dokumente\\\\Python Scripts\\\\query-agent\\\\input\\\\'\n",
    "output_root_path = 'C:\\\\Users\\\\alexd\\\\OneDrive\\\\Dokumente\\\\Python Scripts\\\\query-agent\\\\output\\\\'"
   ]
  },
  {
   "cell_type": "code",
   "execution_count": 187,
   "metadata": {},
   "outputs": [],
   "source": [
    "class Parameter():\n",
    "    def __init__(self, file):\n",
    "        \n",
    "        if file.lower().endswith('.csv'):\n",
    "            self.param_dict = pd.read_csv(file, sep=';', dtype = str).set_index('key').to_dict('index')\n",
    "        \n",
    "            for key in self.param_dict.keys():\n",
    "                self.param_dict[key] = list(map(lambda x: x.replace(' ', ''), self.param_dict[key]['value'].split(',')))\n",
    "        elif file.lower().endswith('.sql'):\n",
    "            db = sqlite3.connect(':memory:')\n",
    "            \n",
    "\n",
    "            df = pd.read_excel('test-data.xlsx')\n",
    "            df.to_sql(\"df\", db, if_exists=\"replace\", index=False)\n",
    "            \n",
    "            \n",
    "            df = pd.read_sql(open(file, 'r').read(), db)\n",
    "            df.columns = ['key', 'value']\n",
    "            self.param_dict = df.set_index('key').to_dict('index')\n",
    "            for key in self.param_dict.keys():\n",
    "                self.param_dict[key] = self.param_dict[key]['value']"
   ]
  },
  {
   "cell_type": "code",
   "execution_count": 188,
   "metadata": {},
   "outputs": [],
   "source": [
    "class Query():\n",
    "    def __init__(self, input_root_path, input_path, output_root_path, params, multi_params):\n",
    "        \n",
    "        # where can the query be found?\n",
    "        self.input_root_path = input_root_path\n",
    "        self.input_path = input_path\n",
    "        self.output_root_path = output_root_path\n",
    "        \n",
    "        # set parameter dictionaries\n",
    "        self.params = params\n",
    "        self.multi_params = multi_params\n",
    "        self.original_query = Path(self.input_path).read_text()\n",
    "        \n",
    "        # derive new properties\n",
    "        self.relative_path = Path(os.path.relpath(Path(self.input_path), self.output_root_path)).parents[0]\n",
    "        self.output_path = self.__set_output_path()\n",
    "        self.modified_query = self.__modify_query()\n",
    "        self.input_path, self.output_path, self.original_query, self.modified_query = self.__multiply()\n",
    "        \n",
    "    def __set_output_path(self):\n",
    "                \n",
    "        # modify file_name\n",
    "        file_name = Path(self.input_path).name\n",
    "        for k, v in self.params.param_dict.items():\n",
    "            file_name = file_name.replace(k,str(v))\n",
    "        \n",
    "        # concatenate and return output_root_path, relative_path and final_filename\n",
    "        return os.path.join(output_root_path,self.relative_path, file_name)\n",
    "    \n",
    "    def __modify_query(self):\n",
    "        query = self.original_query\n",
    "        for k, v in params.param_dict.items():\n",
    "            query = query.replace(k,str(v))\n",
    "        return query\n",
    "    \n",
    "    def __multiply(self):\n",
    "        file_name = Path(self.input_path).name\n",
    "        multiplier_matches = [i for i in list(self.multi_params.param_dict.keys()) if i in file_name]\n",
    "        \n",
    "        if len(multiplier_matches)>0:\n",
    "            input_paths = []\n",
    "            output_paths = []\n",
    "            original_queries = []\n",
    "            modified_queries = []\n",
    "            multiplier_values = [multi_params.param_dict[match] for match in multiplier_matches]\n",
    "            for combination in product(*multiplier_values):\n",
    "                output_file = file_name\n",
    "                modified_query = self.modified_query\n",
    "                for i, value in enumerate(combination):\n",
    "                    output_file = output_file.replace(multiplier_matches[i], value)\n",
    "                    modified_query = modified_query.replace('@'+multiplier_matches[i]+'@', value)\n",
    "                output_path = self.input_path.replace(Path(self.input_path).name, output_file).replace(self.input_root_path, self.output_root_path)\n",
    "                \n",
    "                input_paths.append(self.input_path)\n",
    "                output_paths.append(output_path)\n",
    "                original_queries.append(self.original_query)\n",
    "                modified_queries.append(modified_query)\n",
    "            \n",
    "            return input_paths, output_paths, original_queries, modified_queries\n",
    "        else:\n",
    "            return [self.input_path], [self.output_path], [self.original_query], [self.modified_query]"
   ]
  },
  {
   "cell_type": "code",
   "execution_count": 189,
   "metadata": {},
   "outputs": [],
   "source": [
    "params = Parameter('params/params.sql')\n",
    "multi_params = Parameter('params/file-multiplier.csv')"
   ]
  },
  {
   "cell_type": "code",
   "execution_count": 190,
   "metadata": {},
   "outputs": [],
   "source": [
    "queries = []\n",
    "in_files = [f for f in glob.glob(input_root_path + '**/*.sql', recursive = True)]\n",
    "for query_path in in_files:\n",
    "    queries.append(Query(input_root_path, query_path, output_root_path, params, multi_params))"
   ]
  },
  {
   "cell_type": "code",
   "execution_count": 191,
   "metadata": {},
   "outputs": [
    {
     "name": "stdout",
     "output_type": "stream",
     "text": [
      "['select sum(price) as price_chf from df', 'select sum(volume) as volume from df', \"select * from df where date=20190101 and security='NESN'\\n\", \"select * from df where date=20190101 and security='UBSN'\\n\", \"select * from df where date=20190101 and security='ABBN'\\n\", \"select * from df where date=20190102 and security='NESN'\\n\", \"select * from df where date=20190102 and security='UBSN'\\n\", \"select * from df where date=20190102 and security='ABBN'\\n\", \"select * from df where date=20190103 and security='NESN'\\n\", \"select * from df where date=20190103 and security='UBSN'\\n\", \"select * from df where date=20190103 and security='ABBN'\\n\", 'select * from df where date=20190101\\n', 'select * from df where date=20190102\\n', 'select * from df where date=20190103\\n', 'select * from df where date=20190103', 'select * from df where date=20190103']\n"
     ]
    }
   ],
   "source": [
    "new_list = []\n",
    "for query in queries:\n",
    "    new_list.extend(query.modified_query)\n",
    "print(new_list)"
   ]
  },
  {
   "cell_type": "code",
   "execution_count": 192,
   "metadata": {},
   "outputs": [],
   "source": [
    "def run_query(query):\n",
    "    return pd.read_sql_query(query,db)"
   ]
  },
  {
   "cell_type": "code",
   "execution_count": 198,
   "metadata": {},
   "outputs": [
    {
     "name": "stdout",
     "output_type": "stream",
     "text": [
      "   price_chf\n",
      "0        403\n",
      "    volume\n",
      "0  1098345\n",
      "       Date Security  Price  Volume\n",
      "0  20190101     NESN     45   54564\n",
      "       Date Security  Price  Volume\n",
      "0  20190101     UBSN     40   21564\n",
      "       Date Security  Price  Volume\n",
      "0  20190101     ABBN     50  156231\n",
      "       Date Security  Price  Volume\n",
      "0  20190102     NESN     42  454545\n",
      "       Date Security  Price  Volume\n",
      "0  20190102     UBSN     37   22131\n",
      "       Date Security  Price  Volume\n",
      "0  20190102     ABBN     55  241564\n",
      "       Date Security  Price  Volume\n",
      "0  20190103     NESN     40   45645\n",
      "       Date Security  Price  Volume\n",
      "0  20190103     UBSN     36   12312\n",
      "       Date Security  Price  Volume\n",
      "0  20190103     ABBN     58   89789\n",
      "       Date Security  Price  Volume\n",
      "0  20190101     ABBN     50  156231\n",
      "1  20190101     NESN     45   54564\n",
      "2  20190101     UBSN     40   21564\n",
      "       Date Security  Price  Volume\n",
      "0  20190102     ABBN     55  241564\n",
      "1  20190102     NESN     42  454545\n",
      "2  20190102     UBSN     37   22131\n",
      "       Date Security  Price  Volume\n",
      "0  20190103     ABBN     58   89789\n",
      "1  20190103     NESN     40   45645\n",
      "2  20190103     UBSN     36   12312\n",
      "       Date Security  Price  Volume\n",
      "0  20190103     ABBN     58   89789\n",
      "1  20190103     NESN     40   45645\n",
      "2  20190103     UBSN     36   12312\n",
      "       Date Security  Price  Volume\n",
      "0  20190103     ABBN     58   89789\n",
      "1  20190103     NESN     40   45645\n",
      "2  20190103     UBSN     36   12312\n"
     ]
    }
   ],
   "source": [
    "for i in new_list:\n",
    "    print(run_query(i))"
   ]
  },
  {
   "cell_type": "code",
   "execution_count": null,
   "metadata": {},
   "outputs": [],
   "source": [
    "# write db connector\n",
    "# write query executor\n",
    "# write csv file writer\n",
    "# write logger"
   ]
  }
 ],
 "metadata": {
  "kernelspec": {
   "display_name": "Python 3",
   "language": "python",
   "name": "python3"
  },
  "language_info": {
   "codemirror_mode": {
    "name": "ipython",
    "version": 3
   },
   "file_extension": ".py",
   "mimetype": "text/x-python",
   "name": "python",
   "nbconvert_exporter": "python",
   "pygments_lexer": "ipython3",
   "version": "3.7.3"
  }
 },
 "nbformat": 4,
 "nbformat_minor": 2
}
