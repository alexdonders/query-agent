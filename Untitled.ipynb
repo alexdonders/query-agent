{
 "cells": [
  {
   "cell_type": "code",
   "execution_count": 105,
   "metadata": {},
   "outputs": [],
   "source": [
    "import glob\n",
    "import os\n",
    "import pandas as pd\n",
    "from pathlib import Path\n",
    "from pandas.core.common import flatten\n",
    "from itertools import product\n",
    "from abc import ABC, abstractmethod\n",
    "\n",
    "input_root_path = 'C:\\\\Users\\\\alexd\\\\OneDrive\\\\Dokumente\\\\Python Scripts\\\\query-agent\\\\input\\\\'\n",
    "output_root_path = 'C:\\\\Users\\\\alexd\\\\OneDrive\\\\Dokumente\\\\Python Scripts\\\\query-agent\\\\output\\\\'"
   ]
  },
  {
   "cell_type": "code",
   "execution_count": 163,
   "metadata": {},
   "outputs": [],
   "source": [
    "class Parameter():\n",
    "    def __init__(self, file):\n",
    "        self.param_dict = pd.read_csv(file, sep=';', dtype = str).set_index('key').to_dict('index')\n",
    "        \n",
    "        for key in self.param_dict.keys():\n",
    "            self.param_dict[key] = list(map(lambda x: x.replace(' ', ''), self.param_dict[key]['value'].split(',')))"
   ]
  },
  {
   "cell_type": "code",
   "execution_count": 210,
   "metadata": {},
   "outputs": [],
   "source": [
    "class Query():\n",
    "    def __init__(self, input_path, output_root_path, query_params, file_params, multi_params):\n",
    "        \n",
    "        # where can the query be found?\n",
    "        self.input_path = input_path\n",
    "        self.output_root_path = output_root_path\n",
    "        \n",
    "        # set parameter dictionaries\n",
    "        self.query_params = query_params\n",
    "        self.file_params = file_params\n",
    "        self.multi_params = multi_params\n",
    "        self.original_query = Path(self.input_path).read_text()\n",
    "        \n",
    "        # derive new properties\n",
    "        self.relative_path = Path(os.path.relpath(Path(self.input_path), self.output_root_path)).parents[0]\n",
    "        self.output_path = self.__set_output_path()\n",
    "        self.modified_query = self.__modify_query()\n",
    "        self.output_path, self.modified_query = self.__multiply()\n",
    "        \n",
    "    def __set_output_path(self):\n",
    "                \n",
    "        # modify file_name\n",
    "        file_name = Path(self.input_path).name\n",
    "        for k, v in self.file_params.param_dict.items():\n",
    "            file_name = file_name.replace(k,v[0])\n",
    "        \n",
    "        # concatenate and return output_root_path, relative_path and final_filename\n",
    "        return os.path.join(output_root_path,self.relative_path, file_name)\n",
    "    \n",
    "    def __modify_query(self):\n",
    "        query = self.original_query\n",
    "        for k, v in query_params.param_dict.items():\n",
    "            query = query.replace(k,v[0])\n",
    "        return query\n",
    "    \n",
    "    def __multiply(self):\n",
    "        file = Path(self.input_path).name\n",
    "        multiplier_matches = [i for i in list(self.multi_params.param_dict.keys()) if i in file]\n",
    "        \n",
    "        if len(multiplier_matches)>0:\n",
    "            new_files = []\n",
    "            new_queries = []\n",
    "            multiplier_values = [multi_params.param_dict[match] for match in multiplier_matches]\n",
    "            for combination in product(*multiplier_values):\n",
    "                new_file = file\n",
    "                new_query = self.modified_query\n",
    "                for i, value in enumerate(combination):\n",
    "                    new_file = new_file.replace(multiplier_matches[i], value)\n",
    "                    new_query = new_query.replace('@'+multiplier_matches[i]+'@', value)\n",
    "                new_file = os.path.join(self.output_root_path,self.relative_path,new_file)\n",
    "                \n",
    "                new_files.append(new_file)\n",
    "                new_queries.append(new_query)\n",
    "            \n",
    "            return new_files, new_queries\n",
    "        else:\n",
    "            return [self.output_path], [self.modified_query]"
   ]
  },
  {
   "cell_type": "code",
   "execution_count": 211,
   "metadata": {},
   "outputs": [],
   "source": [
    "query_params = Parameter('params/query-params.csv')\n",
    "file_params = Parameter('params/file-params.csv')\n",
    "multi_params = Parameter('params/file-multiplier.csv')"
   ]
  },
  {
   "cell_type": "code",
   "execution_count": 212,
   "metadata": {},
   "outputs": [],
   "source": [
    "queries = []\n",
    "in_files = [f for f in glob.glob(input_root_path + '**/*.sql', recursive = True)]\n",
    "for query_path in in_files:\n",
    "    queries.append(Query(query_path, output_root_path, query_params, file_params, multi_params))"
   ]
  },
  {
   "cell_type": "code",
   "execution_count": null,
   "metadata": {},
   "outputs": [],
   "source": [
    "# write file proliferator\n",
    "# write db connector\n",
    "# write query executor\n",
    "# write csv file writer\n",
    "# write logger"
   ]
  }
 ],
 "metadata": {
  "kernelspec": {
   "display_name": "Python 3",
   "language": "python",
   "name": "python3"
  },
  "language_info": {
   "codemirror_mode": {
    "name": "ipython",
    "version": 3
   },
   "file_extension": ".py",
   "mimetype": "text/x-python",
   "name": "python",
   "nbconvert_exporter": "python",
   "pygments_lexer": "ipython3",
   "version": "3.7.3"
  }
 },
 "nbformat": 4,
 "nbformat_minor": 2
}
